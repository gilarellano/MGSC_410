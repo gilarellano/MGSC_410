{
 "cells": [
  {
   "cell_type": "code",
   "execution_count": 12,
   "metadata": {},
   "outputs": [],
   "source": [
    "import pandas as pd\n",
    "from forex_python.converter import CurrencyRates, RatesNotAvailableError"
   ]
  },
  {
   "cell_type": "code",
   "execution_count": 17,
   "metadata": {},
   "outputs": [
    {
     "data": {
      "text/plain": [
       "(812104, 27)"
      ]
     },
     "execution_count": 17,
     "metadata": {},
     "output_type": "execute_result"
    }
   ],
   "source": [
    "# Read your data into a pandas DataFrame\n",
    "# Replace 'your_data.csv' with the path to your CSV file\n",
    "data = pd.read_csv(\"raw data/joined_data.csv\")\n",
    "data.shape"
   ]
  },
  {
   "cell_type": "code",
   "execution_count": 7,
   "metadata": {},
   "outputs": [
    {
     "name": "stdout",
     "output_type": "stream",
     "text": [
      "   Currency  Exchange Rate\n",
      "0       USD       1.000000\n",
      "1       EUR       1.090500\n",
      "2       GBP       1.240000\n",
      "3       RUB       0.009524\n",
      "4       BRL       0.203216\n",
      "5       AUD       0.677969\n",
      "6       SAR       0.279589\n",
      "7       BGN       0.565344\n",
      "8       JPY       0.007542\n",
      "9       MXN       0.055396\n",
      "10      TRY       0.051616\n",
      "11      NZD       0.628667\n",
      "12      KRW       0.000769\n",
      "13      UAH       0.000769\n",
      "14      CAD       0.750900\n",
      "15      CHF       1.125165\n",
      "16      THB       0.029360\n",
      "17      EGP       0.279589\n",
      "18      SEK       0.097457\n",
      "19      CLP       1.250226\n",
      "20      NOK       0.096974\n",
      "21      LBP       0.007314\n",
      "22      COP       1.094400\n",
      "23      ILS       0.279589\n",
      "24      SGD       0.753972\n",
      "25      AED       0.007386\n",
      "26      VND       1.250226\n",
      "27      ZAR       0.055465\n",
      "28      RSD       0.096880\n",
      "29      PEN       1.097800\n",
      "30      HKD       0.127389\n",
      "31      GHS       0.084000\n",
      "32      PLN       0.238118\n",
      "33      RON       0.223722\n",
      "34      CZK       0.047372\n",
      "35      KZT       0.002898\n",
      "36      IDR       0.000068\n",
      "37      PHP       0.018090\n",
      "38      QAR       0.007314\n",
      "39      INR       0.012237\n",
      "40      CRC       0.750900\n",
      "41      DKK       0.148396\n",
      "42      HUF       0.002959\n",
      "43      MYR       0.227169\n"
     ]
    }
   ],
   "source": [
    "unique_currencies = data['Currency'].dropna().unique()\n",
    "currency_rates = pd.DataFrame(unique_currencies, columns=['Currency'])\n",
    "\n",
    "# Function to get the exchange rate for a given currency\n",
    "def get_exchange_rate(currency):\n",
    "    if currency == 'USD':\n",
    "        return 1\n",
    "    elif currency == 'GBP':\n",
    "        return 1.24\n",
    "    elif currency == 'GHS':\n",
    "        return 0.084\n",
    "    else:\n",
    "        currency_converter = CurrencyRates()\n",
    "        try:\n",
    "            return currency_converter.get_rate(currency, 'USD')\n",
    "        except RatesNotAvailableError:\n",
    "            print(f\"Conversion rate not available for {currency} => USD\")\n",
    "            return None\n",
    "\n",
    "currency_rates['Exchange Rate'] = currency_rates['Currency'].apply(get_exchange_rate)\n",
    "print(currency_rates)\n"
   ]
  },
  {
   "cell_type": "code",
   "execution_count": 19,
   "metadata": {},
   "outputs": [],
   "source": [
    "def convert_to_usd(row):\n",
    "    if pd.notna(row['Currency']):\n",
    "        if row['Currency'] == 'USD':\n",
    "            return row['Currency'], row['Purchase Amount']\n",
    "        else:\n",
    "            # Lookup the conversion rate from the currency_rates DataFrame\n",
    "            conversion_rate = currency_rates.loc[currency_rates['Currency'] == row['Currency'], 'Exchange Rate'].iloc[0]\n",
    "            if conversion_rate is None:\n",
    "                print(f\"Conversion rate not available for {row['Currency']} => USD\")\n",
    "                return row['Currency'], None\n",
    "\n",
    "        # Return the original currency name and the converted amount\n",
    "        return row['Currency'], (row['Purchase Amount'] * conversion_rate)\n",
    "    else:\n",
    "        return None, None\n",
    "\n",
    "data[['Original Currency', 'Purchase Amount (USD)']] = data.apply(convert_to_usd, axis=1, result_type='expand')"
   ]
  },
  {
   "cell_type": "code",
   "execution_count": 15,
   "metadata": {},
   "outputs": [
    {
     "data": {
      "text/plain": [
       "0      USD\n",
       "1     None\n",
       "2      USD\n",
       "3      USD\n",
       "4      USD\n",
       "      ... \n",
       "95     USD\n",
       "96    None\n",
       "97    None\n",
       "98     USD\n",
       "99     USD\n",
       "Name: Currency, Length: 100, dtype: object"
      ]
     },
     "execution_count": 15,
     "metadata": {},
     "output_type": "execute_result"
    }
   ],
   "source": [
    "data['Original Currency'].head(100)"
   ]
  },
  {
   "cell_type": "code",
   "execution_count": 21,
   "metadata": {},
   "outputs": [],
   "source": [
    "data.to_csv('converted_currency.csv', index=False)"
   ]
  }
 ],
 "metadata": {
  "kernelspec": {
   "display_name": "base",
   "language": "python",
   "name": "python3"
  },
  "language_info": {
   "codemirror_mode": {
    "name": "ipython",
    "version": 3
   },
   "file_extension": ".py",
   "mimetype": "text/x-python",
   "name": "python",
   "nbconvert_exporter": "python",
   "pygments_lexer": "ipython3",
   "version": "3.9.15"
  },
  "orig_nbformat": 4
 },
 "nbformat": 4,
 "nbformat_minor": 2
}
